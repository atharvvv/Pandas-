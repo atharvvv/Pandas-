{
 "cells": [
  {
   "cell_type": "code",
   "execution_count": 4,
   "metadata": {},
   "outputs": [
    {
     "name": "stdout",
     "output_type": "stream",
     "text": [
      "    cars  passings\n",
      "0    BMW         3\n",
      "1  Volvo         7\n",
      "2   Ford         2\n"
     ]
    }
   ],
   "source": [
    "import pandas as pd\n",
    "\n",
    "mydataset = {\n",
    "  \"cars\": [\"BMW\", \"Volvo\", \"Ford\"],\n",
    "  \"passings\": [3, 7, 2]\n",
    "}\n",
    "\n",
    "myvar = pd.DataFrame(mydataset)\n",
    "\n",
    "print(myvar)\n",
    "\n"
   ]
  },
  {
   "cell_type": "code",
   "execution_count": 5,
   "metadata": {},
   "outputs": [
    {
     "name": "stdout",
     "output_type": "stream",
     "text": [
      "0    1\n",
      "1    7\n",
      "2    2\n",
      "dtype: int64\n"
     ]
    }
   ],
   "source": [
    "import pandas as pd\n",
    "\n",
    "a = [1, 7, 2]\n",
    "\n",
    "myvar = pd.Series(a)\n",
    "\n",
    "print(myvar)"
   ]
  },
  {
   "cell_type": "code",
   "execution_count": 6,
   "metadata": {},
   "outputs": [
    {
     "name": "stdout",
     "output_type": "stream",
     "text": [
      "1\n"
     ]
    }
   ],
   "source": [
    "import pandas as pd\n",
    "\n",
    "a = [1, 7, 2]\n",
    "\n",
    "myvar = pd.Series(a)\n",
    "\n",
    "print(myvar[0])\n"
   ]
  },
  {
   "cell_type": "code",
   "execution_count": 11,
   "metadata": {},
   "outputs": [
    {
     "name": "stdout",
     "output_type": "stream",
     "text": [
      "a    Mercedes\n",
      "b         BMW\n",
      "c     Jaguare\n",
      "d      Nissan\n",
      "dtype: object\n"
     ]
    }
   ],
   "source": [
    "import pandas as pd\n",
    "\n",
    "cars = [\"Mercedes\" , \"BMW\" , \"Jaguare\" , \"Nissan\"]\n",
    "\n",
    "mycar = pd.Series(cars, index=[\"a\",\"b\",\"c\",\"d\"])\n",
    "\n",
    "print(mycar)"
   ]
  },
  {
   "cell_type": "code",
   "execution_count": 12,
   "metadata": {},
   "outputs": [
    {
     "name": "stdout",
     "output_type": "stream",
     "text": [
      "day1    420\n",
      "day2    380\n",
      "day3    390\n",
      "dtype: int64\n"
     ]
    }
   ],
   "source": [
    "#key values\n",
    "\n",
    "import pandas as pd\n",
    "\n",
    "calories = {\"day1\": 420, \"day2\": 380, \"day3\": 390}\n",
    "\n",
    "myvar = pd.Series(calories)\n",
    "\n",
    "print(myvar)\n"
   ]
  },
  {
   "cell_type": "code",
   "execution_count": 5,
   "metadata": {},
   "outputs": [
    {
     "name": "stdout",
     "output_type": "stream",
     "text": [
      "    owners        cars\n",
      "a  Atharva  Lamborgine\n",
      "b    Janvi         BMW\n",
      "c   Mitesh     Jaguare\n",
      "d    Aditi  Rangerover\n",
      "c   Prince     dogocar\n"
     ]
    }
   ],
   "source": [
    "import pandas as pd\n",
    "\n",
    "data = {\n",
    "  \"owners\": [\"Atharva\", \"Janvi\", \"Mitesh\" , \"Aditi\" , \"Prince\"],\n",
    "  \"cars\": [\"Lamborgine\", \"BMW\", \"Jaguare\" , \"Rangerover\", \"dogocar\"]\n",
    "}\n",
    "\n",
    "myvar = pd.DataFrame(data , index = [\"a\" , \"b\" , \"c\" , \"d\" , \"c\"])\n",
    "\n",
    "print(myvar)"
   ]
  },
  {
   "cell_type": "code",
   "execution_count": 2,
   "metadata": {},
   "outputs": [
    {
     "name": "stdout",
     "output_type": "stream",
     "text": [
      "owners         Aditi\n",
      "cars      Rangerover\n",
      "Name: d, dtype: object\n"
     ]
    }
   ],
   "source": [
    "print(myvar.loc[\"d\"])"
   ]
  },
  {
   "cell_type": "code",
   "execution_count": 49,
   "metadata": {},
   "outputs": [
    {
     "name": "stdout",
     "output_type": "stream",
     "text": [
      "       Year Industry_aggregation_NZSIOC Industry_code_NZSIOC  \\\n",
      "0      2019                     Level 1                99999   \n",
      "1      2019                     Level 1                99999   \n",
      "2      2019                     Level 1                99999   \n",
      "3      2019                     Level 1                99999   \n",
      "4      2019                     Level 1                99999   \n",
      "...     ...                         ...                  ...   \n",
      "32440  2013                     Level 3                 ZZ11   \n",
      "32441  2013                     Level 3                 ZZ11   \n",
      "32442  2013                     Level 3                 ZZ11   \n",
      "32443  2013                     Level 3                 ZZ11   \n",
      "32444  2013                     Level 3                 ZZ11   \n",
      "\n",
      "             Industry_name_NZSIOC               Units Variable_code  \\\n",
      "0                  All industries  Dollars (millions)           H01   \n",
      "1                  All industries  Dollars (millions)           H04   \n",
      "2                  All industries  Dollars (millions)           H05   \n",
      "3                  All industries  Dollars (millions)           H07   \n",
      "4                  All industries  Dollars (millions)           H08   \n",
      "...                           ...                 ...           ...   \n",
      "32440  Food product manufacturing          Percentage           H37   \n",
      "32441  Food product manufacturing          Percentage           H38   \n",
      "32442  Food product manufacturing          Percentage           H39   \n",
      "32443  Food product manufacturing          Percentage           H40   \n",
      "32444  Food product manufacturing          Percentage           H41   \n",
      "\n",
      "                                         Variable_name      Variable_category  \\\n",
      "0                                         Total income  Financial performance   \n",
      "1      Sales, government funding, grants and subsidies  Financial performance   \n",
      "2                    Interest, dividends and donations  Financial performance   \n",
      "3                                 Non-operating income  Financial performance   \n",
      "4                                    Total expenditure  Financial performance   \n",
      "...                                                ...                    ...   \n",
      "32440                                      Quick ratio       Financial ratios   \n",
      "32441              Margin on sales of goods for resale       Financial ratios   \n",
      "32442                                 Return on equity       Financial ratios   \n",
      "32443                           Return on total assets       Financial ratios   \n",
      "32444                            Liabilities structure       Financial ratios   \n",
      "\n",
      "          Value                             Industry_code_ANZSIC06  \n",
      "0      7,28,239  ANZSIC06 divisions A-S (excluding classes K633...  \n",
      "1      6,43,809  ANZSIC06 divisions A-S (excluding classes K633...  \n",
      "2        62,924  ANZSIC06 divisions A-S (excluding classes K633...  \n",
      "3        21,505  ANZSIC06 divisions A-S (excluding classes K633...  \n",
      "4      6,34,710  ANZSIC06 divisions A-S (excluding classes K633...  \n",
      "...         ...                                                ...  \n",
      "32440        52  ANZSIC06 groups C111, C112, C113, C114, C115, ...  \n",
      "32441        40  ANZSIC06 groups C111, C112, C113, C114, C115, ...  \n",
      "32442        12  ANZSIC06 groups C111, C112, C113, C114, C115, ...  \n",
      "32443         5  ANZSIC06 groups C111, C112, C113, C114, C115, ...  \n",
      "32444        46  ANZSIC06 groups C111, C112, C113, C114, C115, ...  \n",
      "\n",
      "[32445 rows x 10 columns]\n"
     ]
    }
   ],
   "source": [
    "import pandas as pd\n",
    "\n",
    "df = pd.read_csv(r'C:\\Users\\Atharva\\Desktop\\mycap\\eng_data.csv')\n",
    "print(df) \n",
    "\n",
    "\n",
    "\n",
    "\n"
   ]
  },
  {
   "cell_type": "code",
   "execution_count": 51,
   "metadata": {},
   "outputs": [
    {
     "name": "stdout",
     "output_type": "stream",
     "text": [
      "   Year Industry_aggregation_NZSIOC Industry_code_NZSIOC Industry_name_NZSIOC  \\\n",
      "0  2019                     Level 1                99999       All industries   \n",
      "1  2019                     Level 1                99999       All industries   \n",
      "2  2019                     Level 1                99999       All industries   \n",
      "3  2019                     Level 1                99999       All industries   \n",
      "4  2019                     Level 1                99999       All industries   \n",
      "5  2019                     Level 1                99999       All industries   \n",
      "6  2019                     Level 1                99999       All industries   \n",
      "7  2019                     Level 1                99999       All industries   \n",
      "8  2019                     Level 1                99999       All industries   \n",
      "9  2019                     Level 1                99999       All industries   \n",
      "\n",
      "                Units Variable_code  \\\n",
      "0  Dollars (millions)           H01   \n",
      "1  Dollars (millions)           H04   \n",
      "2  Dollars (millions)           H05   \n",
      "3  Dollars (millions)           H07   \n",
      "4  Dollars (millions)           H08   \n",
      "5  Dollars (millions)           H09   \n",
      "6  Dollars (millions)           H10   \n",
      "7  Dollars (millions)           H11   \n",
      "8  Dollars (millions)           H12   \n",
      "9  Dollars (millions)           H13   \n",
      "\n",
      "                                     Variable_name      Variable_category  \\\n",
      "0                                     Total income  Financial performance   \n",
      "1  Sales, government funding, grants and subsidies  Financial performance   \n",
      "2                Interest, dividends and donations  Financial performance   \n",
      "3                             Non-operating income  Financial performance   \n",
      "4                                Total expenditure  Financial performance   \n",
      "5                           Interest and donations  Financial performance   \n",
      "6                                   Indirect taxes  Financial performance   \n",
      "7                                     Depreciation  Financial performance   \n",
      "8                          Salaries and wages paid  Financial performance   \n",
      "9                         Redundancy and severance  Financial performance   \n",
      "\n",
      "      Value                             Industry_code_ANZSIC06  \n",
      "0  7,28,239  ANZSIC06 divisions A-S (excluding classes K633...  \n",
      "1  6,43,809  ANZSIC06 divisions A-S (excluding classes K633...  \n",
      "2    62,924  ANZSIC06 divisions A-S (excluding classes K633...  \n",
      "3    21,505  ANZSIC06 divisions A-S (excluding classes K633...  \n",
      "4  6,34,710  ANZSIC06 divisions A-S (excluding classes K633...  \n",
      "5    35,250  ANZSIC06 divisions A-S (excluding classes K633...  \n",
      "6     7,458  ANZSIC06 divisions A-S (excluding classes K633...  \n",
      "7    20,977  ANZSIC06 divisions A-S (excluding classes K633...  \n",
      "8  1,12,960  ANZSIC06 divisions A-S (excluding classes K633...  \n",
      "9       206  ANZSIC06 divisions A-S (excluding classes K633...  \n"
     ]
    }
   ],
   "source": [
    "#print 10 rows \n",
    "print(df.head(10))\n"
   ]
  },
  {
   "cell_type": "code",
   "execution_count": 50,
   "metadata": {},
   "outputs": [
    {
     "name": "stdout",
     "output_type": "stream",
     "text": [
      "   Year Industry_aggregation_NZSIOC Industry_code_NZSIOC Industry_name_NZSIOC  \\\n",
      "0  2019                     Level 1                99999       All industries   \n",
      "1  2019                     Level 1                99999       All industries   \n",
      "2  2019                     Level 1                99999       All industries   \n",
      "3  2019                     Level 1                99999       All industries   \n",
      "4  2019                     Level 1                99999       All industries   \n",
      "5  2019                     Level 1                99999       All industries   \n",
      "6  2019                     Level 1                99999       All industries   \n",
      "7  2019                     Level 1                99999       All industries   \n",
      "8  2019                     Level 1                99999       All industries   \n",
      "9  2019                     Level 1                99999       All industries   \n",
      "\n",
      "                Units Variable_code  \\\n",
      "0  Dollars (millions)           H01   \n",
      "1  Dollars (millions)           H04   \n",
      "2  Dollars (millions)           H05   \n",
      "3  Dollars (millions)           H07   \n",
      "4  Dollars (millions)           H08   \n",
      "5  Dollars (millions)           H09   \n",
      "6  Dollars (millions)           H10   \n",
      "7  Dollars (millions)           H11   \n",
      "8  Dollars (millions)           H12   \n",
      "9  Dollars (millions)           H13   \n",
      "\n",
      "                                     Variable_name      Variable_category  \\\n",
      "0                                     Total income  Financial performance   \n",
      "1  Sales, government funding, grants and subsidies  Financial performance   \n",
      "2                Interest, dividends and donations  Financial performance   \n",
      "3                             Non-operating income  Financial performance   \n",
      "4                                Total expenditure  Financial performance   \n",
      "5                           Interest and donations  Financial performance   \n",
      "6                                   Indirect taxes  Financial performance   \n",
      "7                                     Depreciation  Financial performance   \n",
      "8                          Salaries and wages paid  Financial performance   \n",
      "9                         Redundancy and severance  Financial performance   \n",
      "\n",
      "      Value                             Industry_code_ANZSIC06  \n",
      "0  7,28,239  ANZSIC06 divisions A-S (excluding classes K633...  \n",
      "1  6,43,809  ANZSIC06 divisions A-S (excluding classes K633...  \n",
      "2    62,924  ANZSIC06 divisions A-S (excluding classes K633...  \n",
      "3    21,505  ANZSIC06 divisions A-S (excluding classes K633...  \n",
      "4  6,34,710  ANZSIC06 divisions A-S (excluding classes K633...  \n",
      "5    35,250  ANZSIC06 divisions A-S (excluding classes K633...  \n",
      "6     7,458  ANZSIC06 divisions A-S (excluding classes K633...  \n",
      "7    20,977  ANZSIC06 divisions A-S (excluding classes K633...  \n",
      "8  1,12,960  ANZSIC06 divisions A-S (excluding classes K633...  \n",
      "9       206  ANZSIC06 divisions A-S (excluding classes K633...  \n"
     ]
    }
   ],
   "source": [
    "#5 rows\n",
    "print(df.head())\n",
    "\n"
   ]
  },
  {
   "cell_type": "code",
   "execution_count": 52,
   "metadata": {},
   "outputs": [
    {
     "name": "stdout",
     "output_type": "stream",
     "text": [
      "       Year Industry_aggregation_NZSIOC Industry_code_NZSIOC  \\\n",
      "32440  2013                     Level 3                 ZZ11   \n",
      "32441  2013                     Level 3                 ZZ11   \n",
      "32442  2013                     Level 3                 ZZ11   \n",
      "32443  2013                     Level 3                 ZZ11   \n",
      "32444  2013                     Level 3                 ZZ11   \n",
      "\n",
      "             Industry_name_NZSIOC       Units Variable_code  \\\n",
      "32440  Food product manufacturing  Percentage           H37   \n",
      "32441  Food product manufacturing  Percentage           H38   \n",
      "32442  Food product manufacturing  Percentage           H39   \n",
      "32443  Food product manufacturing  Percentage           H40   \n",
      "32444  Food product manufacturing  Percentage           H41   \n",
      "\n",
      "                             Variable_name Variable_category Value  \\\n",
      "32440                          Quick ratio  Financial ratios    52   \n",
      "32441  Margin on sales of goods for resale  Financial ratios    40   \n",
      "32442                     Return on equity  Financial ratios    12   \n",
      "32443               Return on total assets  Financial ratios     5   \n",
      "32444                Liabilities structure  Financial ratios    46   \n",
      "\n",
      "                                  Industry_code_ANZSIC06  \n",
      "32440  ANZSIC06 groups C111, C112, C113, C114, C115, ...  \n",
      "32441  ANZSIC06 groups C111, C112, C113, C114, C115, ...  \n",
      "32442  ANZSIC06 groups C111, C112, C113, C114, C115, ...  \n",
      "32443  ANZSIC06 groups C111, C112, C113, C114, C115, ...  \n",
      "32444  ANZSIC06 groups C111, C112, C113, C114, C115, ...  \n"
     ]
    }
   ],
   "source": [
    "#print 5 rows \n",
    "print(df.tail())\n"
   ]
  },
  {
   "cell_type": "code",
   "execution_count": 53,
   "metadata": {},
   "outputs": [
    {
     "name": "stdout",
     "output_type": "stream",
     "text": [
      "<class 'pandas.core.frame.DataFrame'>\n",
      "RangeIndex: 32445 entries, 0 to 32444\n",
      "Data columns (total 10 columns):\n",
      " #   Column                       Non-Null Count  Dtype \n",
      "---  ------                       --------------  ----- \n",
      " 0   Year                         32445 non-null  int64 \n",
      " 1   Industry_aggregation_NZSIOC  32445 non-null  object\n",
      " 2   Industry_code_NZSIOC         32445 non-null  object\n",
      " 3   Industry_name_NZSIOC         32445 non-null  object\n",
      " 4   Units                        32445 non-null  object\n",
      " 5   Variable_code                32445 non-null  object\n",
      " 6   Variable_name                32445 non-null  object\n",
      " 7   Variable_category            32445 non-null  object\n",
      " 8   Value                        32445 non-null  object\n",
      " 9   Industry_code_ANZSIC06       32445 non-null  object\n",
      "dtypes: int64(1), object(9)\n",
      "memory usage: 2.5+ MB\n",
      "None\n"
     ]
    }
   ],
   "source": [
    "#Print information about the data:\n",
    "print(df.info()) \n",
    "\n"
   ]
  },
  {
   "cell_type": "code",
   "execution_count": 56,
   "metadata": {},
   "outputs": [
    {
     "name": "stdout",
     "output_type": "stream",
     "text": [
      "       Year Industry_aggregation_NZSIOC Industry_code_NZSIOC  \\\n",
      "0      2019                     Level 1                99999   \n",
      "1      2019                     Level 1                99999   \n",
      "2      2019                     Level 1                99999   \n",
      "3      2019                     Level 1                99999   \n",
      "4      2019                     Level 1                99999   \n",
      "...     ...                         ...                  ...   \n",
      "32440  2013                     Level 3                 ZZ11   \n",
      "32441  2013                     Level 3                 ZZ11   \n",
      "32442  2013                     Level 3                 ZZ11   \n",
      "32443  2013                     Level 3                 ZZ11   \n",
      "32444  2013                     Level 3                 ZZ11   \n",
      "\n",
      "             Industry_name_NZSIOC               Units Variable_code  \\\n",
      "0                  All industries  Dollars (millions)           H01   \n",
      "1                  All industries  Dollars (millions)           H04   \n",
      "2                  All industries  Dollars (millions)           H05   \n",
      "3                  All industries  Dollars (millions)           H07   \n",
      "4                  All industries  Dollars (millions)           H08   \n",
      "...                           ...                 ...           ...   \n",
      "32440  Food product manufacturing          Percentage           H37   \n",
      "32441  Food product manufacturing          Percentage           H38   \n",
      "32442  Food product manufacturing          Percentage           H39   \n",
      "32443  Food product manufacturing          Percentage           H40   \n",
      "32444  Food product manufacturing          Percentage           H41   \n",
      "\n",
      "                                         Variable_name      Variable_category  \\\n",
      "0                                         Total income  Financial performance   \n",
      "1      Sales, government funding, grants and subsidies  Financial performance   \n",
      "2                    Interest, dividends and donations  Financial performance   \n",
      "3                                 Non-operating income  Financial performance   \n",
      "4                                    Total expenditure  Financial performance   \n",
      "...                                                ...                    ...   \n",
      "32440                                      Quick ratio       Financial ratios   \n",
      "32441              Margin on sales of goods for resale       Financial ratios   \n",
      "32442                                 Return on equity       Financial ratios   \n",
      "32443                           Return on total assets       Financial ratios   \n",
      "32444                            Liabilities structure       Financial ratios   \n",
      "\n",
      "          Value                             Industry_code_ANZSIC06  \n",
      "0      7,28,239  ANZSIC06 divisions A-S (excluding classes K633...  \n",
      "1      6,43,809  ANZSIC06 divisions A-S (excluding classes K633...  \n",
      "2        62,924  ANZSIC06 divisions A-S (excluding classes K633...  \n",
      "3        21,505  ANZSIC06 divisions A-S (excluding classes K633...  \n",
      "4      6,34,710  ANZSIC06 divisions A-S (excluding classes K633...  \n",
      "...         ...                                                ...  \n",
      "32440        52  ANZSIC06 groups C111, C112, C113, C114, C115, ...  \n",
      "32441        40  ANZSIC06 groups C111, C112, C113, C114, C115, ...  \n",
      "32442        12  ANZSIC06 groups C111, C112, C113, C114, C115, ...  \n",
      "32443         5  ANZSIC06 groups C111, C112, C113, C114, C115, ...  \n",
      "32444        46  ANZSIC06 groups C111, C112, C113, C114, C115, ...  \n",
      "\n",
      "[32445 rows x 10 columns]\n"
     ]
    }
   ],
   "source": [
    "import pandas as pd\n",
    "\n",
    "df = pd.read_csv(r'C:\\Users\\Atharva\\Desktop\\mycap\\eng_data.csv')\n",
    "\n",
    "new_df = df.dropna()\n",
    "\n",
    "print(new_df)\n",
    "\n",
    "#Return a new Data Frame with no empty cells:\n",
    "\n",
    "\n"
   ]
  },
  {
   "cell_type": "code",
   "execution_count": 61,
   "metadata": {},
   "outputs": [
    {
     "name": "stdout",
     "output_type": "stream",
     "text": [
      "<class 'pandas.core.frame.DataFrame'>\n",
      "Int64Index: 32445 entries, 0 to 32444\n",
      "Data columns (total 10 columns):\n",
      " #   Column                       Non-Null Count  Dtype \n",
      "---  ------                       --------------  ----- \n",
      " 0   Year                         32445 non-null  int64 \n",
      " 1   Industry_aggregation_NZSIOC  32445 non-null  object\n",
      " 2   Industry_code_NZSIOC         32445 non-null  object\n",
      " 3   Industry_name_NZSIOC         32445 non-null  object\n",
      " 4   Units                        32445 non-null  object\n",
      " 5   Variable_code                32445 non-null  object\n",
      " 6   Variable_name                32445 non-null  object\n",
      " 7   Variable_category            32445 non-null  object\n",
      " 8   Value                        32445 non-null  object\n",
      " 9   Industry_code_ANZSIC06       32445 non-null  object\n",
      "dtypes: int64(1), object(9)\n",
      "memory usage: 2.7+ MB\n",
      "None\n"
     ]
    }
   ],
   "source": [
    "print(new_df.info())"
   ]
  },
  {
   "cell_type": "code",
   "execution_count": 63,
   "metadata": {},
   "outputs": [
    {
     "name": "stdout",
     "output_type": "stream",
     "text": [
      "       Year Industry_aggregation_NZSIOC Industry_code_NZSIOC  \\\n",
      "0      2019                     Level 1                99999   \n",
      "1      2019                     Level 1                99999   \n",
      "2      2019                     Level 1                99999   \n",
      "3      2019                     Level 1                99999   \n",
      "4      2019                     Level 1                99999   \n",
      "...     ...                         ...                  ...   \n",
      "32440  2013                     Level 3                 ZZ11   \n",
      "32441  2013                     Level 3                 ZZ11   \n",
      "32442  2013                     Level 3                 ZZ11   \n",
      "32443  2013                     Level 3                 ZZ11   \n",
      "32444  2013                     Level 3                 ZZ11   \n",
      "\n",
      "             Industry_name_NZSIOC               Units Variable_code  \\\n",
      "0                  All industries  Dollars (millions)           H01   \n",
      "1                  All industries  Dollars (millions)           H04   \n",
      "2                  All industries  Dollars (millions)           H05   \n",
      "3                  All industries  Dollars (millions)           H07   \n",
      "4                  All industries  Dollars (millions)           H08   \n",
      "...                           ...                 ...           ...   \n",
      "32440  Food product manufacturing          Percentage           H37   \n",
      "32441  Food product manufacturing          Percentage           H38   \n",
      "32442  Food product manufacturing          Percentage           H39   \n",
      "32443  Food product manufacturing          Percentage           H40   \n",
      "32444  Food product manufacturing          Percentage           H41   \n",
      "\n",
      "                                         Variable_name      Variable_category  \\\n",
      "0                                         Total income  Financial performance   \n",
      "1      Sales, government funding, grants and subsidies  Financial performance   \n",
      "2                    Interest, dividends and donations  Financial performance   \n",
      "3                                 Non-operating income  Financial performance   \n",
      "4                                    Total expenditure  Financial performance   \n",
      "...                                                ...                    ...   \n",
      "32440                                      Quick ratio       Financial ratios   \n",
      "32441              Margin on sales of goods for resale       Financial ratios   \n",
      "32442                                 Return on equity       Financial ratios   \n",
      "32443                           Return on total assets       Financial ratios   \n",
      "32444                            Liabilities structure       Financial ratios   \n",
      "\n",
      "          Value                             Industry_code_ANZSIC06  \n",
      "0      7,28,239  ANZSIC06 divisions A-S (excluding classes K633...  \n",
      "1      6,43,809  ANZSIC06 divisions A-S (excluding classes K633...  \n",
      "2        62,924  ANZSIC06 divisions A-S (excluding classes K633...  \n",
      "3        21,505  ANZSIC06 divisions A-S (excluding classes K633...  \n",
      "4      6,34,710  ANZSIC06 divisions A-S (excluding classes K633...  \n",
      "...         ...                                                ...  \n",
      "32440        52  ANZSIC06 groups C111, C112, C113, C114, C115, ...  \n",
      "32441        40  ANZSIC06 groups C111, C112, C113, C114, C115, ...  \n",
      "32442        12  ANZSIC06 groups C111, C112, C113, C114, C115, ...  \n",
      "32443         5  ANZSIC06 groups C111, C112, C113, C114, C115, ...  \n",
      "32444        46  ANZSIC06 groups C111, C112, C113, C114, C115, ...  \n",
      "\n",
      "[32445 rows x 10 columns]\n"
     ]
    }
   ],
   "source": [
    "import pandas as pd\n",
    "\n",
    "df = pd.read_csv(r'C:\\Users\\Atharva\\Desktop\\mycap\\eng_data.csv')\n",
    "\n",
    "df.dropna(inplace = True)\n",
    "\n",
    "print(df)\n",
    "\n",
    "#Remove all rows with NULL values:\n"
   ]
  },
  {
   "cell_type": "code",
   "execution_count": 64,
   "metadata": {},
   "outputs": [
    {
     "name": "stdout",
     "output_type": "stream",
     "text": [
      "<class 'pandas.core.frame.DataFrame'>\n",
      "Int64Index: 32445 entries, 0 to 32444\n",
      "Data columns (total 10 columns):\n",
      " #   Column                       Non-Null Count  Dtype \n",
      "---  ------                       --------------  ----- \n",
      " 0   Year                         32445 non-null  int64 \n",
      " 1   Industry_aggregation_NZSIOC  32445 non-null  object\n",
      " 2   Industry_code_NZSIOC         32445 non-null  object\n",
      " 3   Industry_name_NZSIOC         32445 non-null  object\n",
      " 4   Units                        32445 non-null  object\n",
      " 5   Variable_code                32445 non-null  object\n",
      " 6   Variable_name                32445 non-null  object\n",
      " 7   Variable_category            32445 non-null  object\n",
      " 8   Value                        32445 non-null  object\n",
      " 9   Industry_code_ANZSIC06       32445 non-null  object\n",
      "dtypes: int64(1), object(9)\n",
      "memory usage: 2.7+ MB\n",
      "None\n"
     ]
    }
   ],
   "source": [
    "print(df.info())"
   ]
  },
  {
   "cell_type": "code",
   "execution_count": 65,
   "metadata": {},
   "outputs": [
    {
     "name": "stdout",
     "output_type": "stream",
     "text": [
      "       Year Industry_aggregation_NZSIOC Industry_code_NZSIOC  \\\n",
      "0      2019                     Level 1                99999   \n",
      "1      2019                     Level 1                99999   \n",
      "2      2019                     Level 1                99999   \n",
      "3      2019                     Level 1                99999   \n",
      "4      2019                     Level 1                99999   \n",
      "...     ...                         ...                  ...   \n",
      "32440  2013                     Level 3                 ZZ11   \n",
      "32441  2013                     Level 3                 ZZ11   \n",
      "32442  2013                     Level 3                 ZZ11   \n",
      "32443  2013                     Level 3                 ZZ11   \n",
      "32444  2013                     Level 3                 ZZ11   \n",
      "\n",
      "             Industry_name_NZSIOC               Units Variable_code  \\\n",
      "0                  All industries  Dollars (millions)           H01   \n",
      "1                  All industries  Dollars (millions)           H04   \n",
      "2                  All industries  Dollars (millions)           H05   \n",
      "3                  All industries  Dollars (millions)           H07   \n",
      "4                  All industries  Dollars (millions)           H08   \n",
      "...                           ...                 ...           ...   \n",
      "32440  Food product manufacturing          Percentage           H37   \n",
      "32441  Food product manufacturing          Percentage           H38   \n",
      "32442  Food product manufacturing          Percentage           H39   \n",
      "32443  Food product manufacturing          Percentage           H40   \n",
      "32444  Food product manufacturing          Percentage           H41   \n",
      "\n",
      "                                         Variable_name      Variable_category  \\\n",
      "0                                         Total income  Financial performance   \n",
      "1      Sales, government funding, grants and subsidies  Financial performance   \n",
      "2                    Interest, dividends and donations  Financial performance   \n",
      "3                                 Non-operating income  Financial performance   \n",
      "4                                    Total expenditure  Financial performance   \n",
      "...                                                ...                    ...   \n",
      "32440                                      Quick ratio       Financial ratios   \n",
      "32441              Margin on sales of goods for resale       Financial ratios   \n",
      "32442                                 Return on equity       Financial ratios   \n",
      "32443                           Return on total assets       Financial ratios   \n",
      "32444                            Liabilities structure       Financial ratios   \n",
      "\n",
      "          Value                             Industry_code_ANZSIC06  \n",
      "0      7,28,239  ANZSIC06 divisions A-S (excluding classes K633...  \n",
      "1      6,43,809  ANZSIC06 divisions A-S (excluding classes K633...  \n",
      "2        62,924  ANZSIC06 divisions A-S (excluding classes K633...  \n",
      "3        21,505  ANZSIC06 divisions A-S (excluding classes K633...  \n",
      "4      6,34,710  ANZSIC06 divisions A-S (excluding classes K633...  \n",
      "...         ...                                                ...  \n",
      "32440        52  ANZSIC06 groups C111, C112, C113, C114, C115, ...  \n",
      "32441        40  ANZSIC06 groups C111, C112, C113, C114, C115, ...  \n",
      "32442        12  ANZSIC06 groups C111, C112, C113, C114, C115, ...  \n",
      "32443         5  ANZSIC06 groups C111, C112, C113, C114, C115, ...  \n",
      "32444        46  ANZSIC06 groups C111, C112, C113, C114, C115, ...  \n",
      "\n",
      "[32445 rows x 10 columns]\n"
     ]
    }
   ],
   "source": [
    "import pandas as pd\n",
    "\n",
    "df = pd.read_csv(r'C:\\Users\\Atharva\\Desktop\\mycap\\eng_data.csv')\n",
    "\n",
    "df.fillna(130, inplace = True)\n",
    "\n",
    "print(df)\n",
    "\n"
   ]
  },
  {
   "cell_type": "code",
   "execution_count": 66,
   "metadata": {},
   "outputs": [
    {
     "data": {
      "text/html": [
       "<div>\n",
       "<style scoped>\n",
       "    .dataframe tbody tr th:only-of-type {\n",
       "        vertical-align: middle;\n",
       "    }\n",
       "\n",
       "    .dataframe tbody tr th {\n",
       "        vertical-align: top;\n",
       "    }\n",
       "\n",
       "    .dataframe thead th {\n",
       "        text-align: right;\n",
       "    }\n",
       "</style>\n",
       "<table border=\"1\" class=\"dataframe\">\n",
       "  <thead>\n",
       "    <tr style=\"text-align: right;\">\n",
       "      <th></th>\n",
       "      <th>Year</th>\n",
       "    </tr>\n",
       "  </thead>\n",
       "  <tbody>\n",
       "    <tr>\n",
       "      <th>Year</th>\n",
       "      <td>1.0</td>\n",
       "    </tr>\n",
       "  </tbody>\n",
       "</table>\n",
       "</div>"
      ],
      "text/plain": [
       "      Year\n",
       "Year   1.0"
      ]
     },
     "execution_count": 66,
     "metadata": {},
     "output_type": "execute_result"
    }
   ],
   "source": [
    "df.corr()\n"
   ]
  },
  {
   "cell_type": "code",
   "execution_count": 68,
   "metadata": {},
   "outputs": [
    {
     "data": {
      "image/png": "[encoded data removed]",
      "text/plain": [
       "<Figure size 432x288 with 1 Axes>"
      ]
     },
     "metadata": {
      "needs_background": "light"
     },
     "output_type": "display_data"
    }
   ],
   "source": [
    "import pandas as pd\n",
    "import matplotlib.pyplot as plt\n",
    "\n",
    "df = pd.read_csv(r'C:\\Users\\Atharva\\Desktop\\mycap\\eng_data.csv')\n",
    "\n",
    "df.plot()\n",
    "\n",
    "plt.show()\n",
    "\n",
    "#plotting"
   ]
  },
  {
   "cell_type": "code",
   "execution_count": 70,
   "metadata": {},
   "outputs": [
    {
     "ename": "KeyError",
     "evalue": "'Duration'",
     "output_type": "error",
     "traceback": [
      "\u001b[1;31m---------------------------------------------------------------------------\u001b[0m",
      "\u001b[1;31mKeyError\u001b[0m                                  Traceback (most recent call last)",
      "\u001b[1;32m~\\anaconda3\\lib\\site-packages\\pandas\\core\\indexes\\base.py\u001b[0m in \u001b[0;36mget_loc\u001b[1;34m(self, key, method, tolerance)\u001b[0m\n\u001b[0;32m   2894\u001b[0m             \u001b[1;32mtry\u001b[0m\u001b[1;33m:\u001b[0m\u001b[1;33m\u001b[0m\u001b[1;33m\u001b[0m\u001b[0m\n\u001b[1;32m-> 2895\u001b[1;33m                 \u001b[1;32mreturn\u001b[0m \u001b[0mself\u001b[0m\u001b[1;33m.\u001b[0m\u001b[0m_engine\u001b[0m\u001b[1;33m.\u001b[0m\u001b[0mget_loc\u001b[0m\u001b[1;33m(\u001b[0m\u001b[0mcasted_key\u001b[0m\u001b[1;33m)\u001b[0m\u001b[1;33m\u001b[0m\u001b[1;33m\u001b[0m\u001b[0m\n\u001b[0m\u001b[0;32m   2896\u001b[0m             \u001b[1;32mexcept\u001b[0m \u001b[0mKeyError\u001b[0m \u001b[1;32mas\u001b[0m \u001b[0merr\u001b[0m\u001b[1;33m:\u001b[0m\u001b[1;33m\u001b[0m\u001b[1;33m\u001b[0m\u001b[0m\n",
      "\u001b[1;32mpandas\\_libs\\index.pyx\u001b[0m in \u001b[0;36mpandas._libs.index.IndexEngine.get_loc\u001b[1;34m()\u001b[0m\n",
      "\u001b[1;32mpandas\\_libs\\index.pyx\u001b[0m in \u001b[0;36mpandas._libs.index.IndexEngine.get_loc\u001b[1;34m()\u001b[0m\n",
      "\u001b[1;32mpandas\\_libs\\hashtable_class_helper.pxi\u001b[0m in \u001b[0;36mpandas._libs.hashtable.PyObjectHashTable.get_item\u001b[1;34m()\u001b[0m\n",
      "\u001b[1;32mpandas\\_libs\\hashtable_class_helper.pxi\u001b[0m in \u001b[0;36mpandas._libs.hashtable.PyObjectHashTable.get_item\u001b[1;34m()\u001b[0m\n",
      "\u001b[1;31mKeyError\u001b[0m: 'Duration'",
      "\nThe above exception was the direct cause of the following exception:\n",
      "\u001b[1;31mKeyError\u001b[0m                                  Traceback (most recent call last)",
      "\u001b[1;32m<ipython-input-70-f696e010f7a9>\u001b[0m in \u001b[0;36m<module>\u001b[1;34m\u001b[0m\n\u001b[0;32m      4\u001b[0m \u001b[0mdf\u001b[0m \u001b[1;33m=\u001b[0m \u001b[0mpd\u001b[0m\u001b[1;33m.\u001b[0m\u001b[0mread_csv\u001b[0m\u001b[1;33m(\u001b[0m\u001b[1;34mr'C:\\Users\\Atharva\\Desktop\\mycap\\eng_data.csv'\u001b[0m\u001b[1;33m)\u001b[0m\u001b[1;33m\u001b[0m\u001b[1;33m\u001b[0m\u001b[0m\n\u001b[0;32m      5\u001b[0m \u001b[1;33m\u001b[0m\u001b[0m\n\u001b[1;32m----> 6\u001b[1;33m \u001b[0mdf\u001b[0m\u001b[1;33m.\u001b[0m\u001b[0mplot\u001b[0m\u001b[1;33m(\u001b[0m\u001b[0mkind\u001b[0m \u001b[1;33m=\u001b[0m \u001b[1;34m'scatter'\u001b[0m\u001b[1;33m,\u001b[0m \u001b[0mx\u001b[0m \u001b[1;33m=\u001b[0m \u001b[1;34m'Duration'\u001b[0m\u001b[1;33m,\u001b[0m \u001b[0my\u001b[0m \u001b[1;33m=\u001b[0m \u001b[1;34m'Calories'\u001b[0m\u001b[1;33m)\u001b[0m\u001b[1;33m\u001b[0m\u001b[1;33m\u001b[0m\u001b[0m\n\u001b[0m\u001b[0;32m      7\u001b[0m \u001b[1;33m\u001b[0m\u001b[0m\n\u001b[0;32m      8\u001b[0m \u001b[0mplt\u001b[0m\u001b[1;33m.\u001b[0m\u001b[0mshow\u001b[0m\u001b[1;33m(\u001b[0m\u001b[1;33m)\u001b[0m\u001b[1;33m\u001b[0m\u001b[1;33m\u001b[0m\u001b[0m\n",
      "\u001b[1;32m~\\anaconda3\\lib\\site-packages\\pandas\\plotting\\_core.py\u001b[0m in \u001b[0;36m__call__\u001b[1;34m(self, *args, **kwargs)\u001b[0m\n\u001b[0;32m    892\u001b[0m         \u001b[1;32mif\u001b[0m \u001b[0mkind\u001b[0m \u001b[1;32min\u001b[0m \u001b[0mself\u001b[0m\u001b[1;33m.\u001b[0m\u001b[0m_dataframe_kinds\u001b[0m\u001b[1;33m:\u001b[0m\u001b[1;33m\u001b[0m\u001b[1;33m\u001b[0m\u001b[0m\n\u001b[0;32m    893\u001b[0m             \u001b[1;32mif\u001b[0m \u001b[0misinstance\u001b[0m\u001b[1;33m(\u001b[0m\u001b[0mdata\u001b[0m\u001b[1;33m,\u001b[0m \u001b[0mABCDataFrame\u001b[0m\u001b[1;33m)\u001b[0m\u001b[1;33m:\u001b[0m\u001b[1;33m\u001b[0m\u001b[1;33m\u001b[0m\u001b[0m\n\u001b[1;32m--> 894\u001b[1;33m                 \u001b[1;32mreturn\u001b[0m \u001b[0mplot_backend\u001b[0m\u001b[1;33m.\u001b[0m\u001b[0mplot\u001b[0m\u001b[1;33m(\u001b[0m\u001b[0mdata\u001b[0m\u001b[1;33m,\u001b[0m \u001b[0mx\u001b[0m\u001b[1;33m=\u001b[0m\u001b[0mx\u001b[0m\u001b[1;33m,\u001b[0m \u001b[0my\u001b[0m\u001b[1;33m=\u001b[0m\u001b[0my\u001b[0m\u001b[1;33m,\u001b[0m \u001b[0mkind\u001b[0m\u001b[1;33m=\u001b[0m\u001b[0mkind\u001b[0m\u001b[1;33m,\u001b[0m \u001b[1;33m**\u001b[0m\u001b[0mkwargs\u001b[0m\u001b[1;33m)\u001b[0m\u001b[1;33m\u001b[0m\u001b[1;33m\u001b[0m\u001b[0m\n\u001b[0m\u001b[0;32m    895\u001b[0m             \u001b[1;32melse\u001b[0m\u001b[1;33m:\u001b[0m\u001b[1;33m\u001b[0m\u001b[1;33m\u001b[0m\u001b[0m\n\u001b[0;32m    896\u001b[0m                 \u001b[1;32mraise\u001b[0m \u001b[0mValueError\u001b[0m\u001b[1;33m(\u001b[0m\u001b[1;34mf\"plot kind {kind} can only be used for data frames\"\u001b[0m\u001b[1;33m)\u001b[0m\u001b[1;33m\u001b[0m\u001b[1;33m\u001b[0m\u001b[0m\n",
      "\u001b[1;32m~\\anaconda3\\lib\\site-packages\\pandas\\plotting\\_matplotlib\\__init__.py\u001b[0m in \u001b[0;36mplot\u001b[1;34m(data, kind, **kwargs)\u001b[0m\n\u001b[0;32m     59\u001b[0m             \u001b[0mkwargs\u001b[0m\u001b[1;33m[\u001b[0m\u001b[1;34m\"ax\"\u001b[0m\u001b[1;33m]\u001b[0m \u001b[1;33m=\u001b[0m \u001b[0mgetattr\u001b[0m\u001b[1;33m(\u001b[0m\u001b[0max\u001b[0m\u001b[1;33m,\u001b[0m \u001b[1;34m\"left_ax\"\u001b[0m\u001b[1;33m,\u001b[0m \u001b[0max\u001b[0m\u001b[1;33m)\u001b[0m\u001b[1;33m\u001b[0m\u001b[1;33m\u001b[0m\u001b[0m\n\u001b[0;32m     60\u001b[0m     \u001b[0mplot_obj\u001b[0m \u001b[1;33m=\u001b[0m \u001b[0mPLOT_CLASSES\u001b[0m\u001b[1;33m[\u001b[0m\u001b[0mkind\u001b[0m\u001b[1;33m]\u001b[0m\u001b[1;33m(\u001b[0m\u001b[0mdata\u001b[0m\u001b[1;33m,\u001b[0m \u001b[1;33m**\u001b[0m\u001b[0mkwargs\u001b[0m\u001b[1;33m)\u001b[0m\u001b[1;33m\u001b[0m\u001b[1;33m\u001b[0m\u001b[0m\n\u001b[1;32m---> 61\u001b[1;33m     \u001b[0mplot_obj\u001b[0m\u001b[1;33m.\u001b[0m\u001b[0mgenerate\u001b[0m\u001b[1;33m(\u001b[0m\u001b[1;33m)\u001b[0m\u001b[1;33m\u001b[0m\u001b[1;33m\u001b[0m\u001b[0m\n\u001b[0m\u001b[0;32m     62\u001b[0m     \u001b[0mplot_obj\u001b[0m\u001b[1;33m.\u001b[0m\u001b[0mdraw\u001b[0m\u001b[1;33m(\u001b[0m\u001b[1;33m)\u001b[0m\u001b[1;33m\u001b[0m\u001b[1;33m\u001b[0m\u001b[0m\n\u001b[0;32m     63\u001b[0m     \u001b[1;32mreturn\u001b[0m \u001b[0mplot_obj\u001b[0m\u001b[1;33m.\u001b[0m\u001b[0mresult\u001b[0m\u001b[1;33m\u001b[0m\u001b[1;33m\u001b[0m\u001b[0m\n",
      "\u001b[1;32m~\\anaconda3\\lib\\site-packages\\pandas\\plotting\\_matplotlib\\core.py\u001b[0m in \u001b[0;36mgenerate\u001b[1;34m(self)\u001b[0m\n\u001b[0;32m    269\u001b[0m         \u001b[0mself\u001b[0m\u001b[1;33m.\u001b[0m\u001b[0m_compute_plot_data\u001b[0m\u001b[1;33m(\u001b[0m\u001b[1;33m)\u001b[0m\u001b[1;33m\u001b[0m\u001b[1;33m\u001b[0m\u001b[0m\n\u001b[0;32m    270\u001b[0m         \u001b[0mself\u001b[0m\u001b[1;33m.\u001b[0m\u001b[0m_setup_subplots\u001b[0m\u001b[1;33m(\u001b[0m\u001b[1;33m)\u001b[0m\u001b[1;33m\u001b[0m\u001b[1;33m\u001b[0m\u001b[0m\n\u001b[1;32m--> 271\u001b[1;33m         \u001b[0mself\u001b[0m\u001b[1;33m.\u001b[0m\u001b[0m_make_plot\u001b[0m\u001b[1;33m(\u001b[0m\u001b[1;33m)\u001b[0m\u001b[1;33m\u001b[0m\u001b[1;33m\u001b[0m\u001b[0m\n\u001b[0m\u001b[0;32m    272\u001b[0m         \u001b[0mself\u001b[0m\u001b[1;33m.\u001b[0m\u001b[0m_add_table\u001b[0m\u001b[1;33m(\u001b[0m\u001b[1;33m)\u001b[0m\u001b[1;33m\u001b[0m\u001b[1;33m\u001b[0m\u001b[0m\n\u001b[0;32m    273\u001b[0m         \u001b[0mself\u001b[0m\u001b[1;33m.\u001b[0m\u001b[0m_make_legend\u001b[0m\u001b[1;33m(\u001b[0m\u001b[1;33m)\u001b[0m\u001b[1;33m\u001b[0m\u001b[1;33m\u001b[0m\u001b[0m\n",
      "\u001b[1;32m~\\anaconda3\\lib\\site-packages\\pandas\\plotting\\_matplotlib\\core.py\u001b[0m in \u001b[0;36m_make_plot\u001b[1;34m(self)\u001b[0m\n\u001b[0;32m   1009\u001b[0m             \u001b[0mlabel\u001b[0m \u001b[1;33m=\u001b[0m \u001b[1;32mNone\u001b[0m\u001b[1;33m\u001b[0m\u001b[1;33m\u001b[0m\u001b[0m\n\u001b[0;32m   1010\u001b[0m         scatter = ax.scatter(\n\u001b[1;32m-> 1011\u001b[1;33m             \u001b[0mdata\u001b[0m\u001b[1;33m[\u001b[0m\u001b[0mx\u001b[0m\u001b[1;33m]\u001b[0m\u001b[1;33m.\u001b[0m\u001b[0mvalues\u001b[0m\u001b[1;33m,\u001b[0m\u001b[1;33m\u001b[0m\u001b[1;33m\u001b[0m\u001b[0m\n\u001b[0m\u001b[0;32m   1012\u001b[0m             \u001b[0mdata\u001b[0m\u001b[1;33m[\u001b[0m\u001b[0my\u001b[0m\u001b[1;33m]\u001b[0m\u001b[1;33m.\u001b[0m\u001b[0mvalues\u001b[0m\u001b[1;33m,\u001b[0m\u001b[1;33m\u001b[0m\u001b[1;33m\u001b[0m\u001b[0m\n\u001b[0;32m   1013\u001b[0m             \u001b[0mc\u001b[0m\u001b[1;33m=\u001b[0m\u001b[0mc_values\u001b[0m\u001b[1;33m,\u001b[0m\u001b[1;33m\u001b[0m\u001b[1;33m\u001b[0m\u001b[0m\n",
      "\u001b[1;32m~\\anaconda3\\lib\\site-packages\\pandas\\core\\frame.py\u001b[0m in \u001b[0;36m__getitem__\u001b[1;34m(self, key)\u001b[0m\n\u001b[0;32m   2900\u001b[0m             \u001b[1;32mif\u001b[0m \u001b[0mself\u001b[0m\u001b[1;33m.\u001b[0m\u001b[0mcolumns\u001b[0m\u001b[1;33m.\u001b[0m\u001b[0mnlevels\u001b[0m \u001b[1;33m>\u001b[0m \u001b[1;36m1\u001b[0m\u001b[1;33m:\u001b[0m\u001b[1;33m\u001b[0m\u001b[1;33m\u001b[0m\u001b[0m\n\u001b[0;32m   2901\u001b[0m                 \u001b[1;32mreturn\u001b[0m \u001b[0mself\u001b[0m\u001b[1;33m.\u001b[0m\u001b[0m_getitem_multilevel\u001b[0m\u001b[1;33m(\u001b[0m\u001b[0mkey\u001b[0m\u001b[1;33m)\u001b[0m\u001b[1;33m\u001b[0m\u001b[1;33m\u001b[0m\u001b[0m\n\u001b[1;32m-> 2902\u001b[1;33m             \u001b[0mindexer\u001b[0m \u001b[1;33m=\u001b[0m \u001b[0mself\u001b[0m\u001b[1;33m.\u001b[0m\u001b[0mcolumns\u001b[0m\u001b[1;33m.\u001b[0m\u001b[0mget_loc\u001b[0m\u001b[1;33m(\u001b[0m\u001b[0mkey\u001b[0m\u001b[1;33m)\u001b[0m\u001b[1;33m\u001b[0m\u001b[1;33m\u001b[0m\u001b[0m\n\u001b[0m\u001b[0;32m   2903\u001b[0m             \u001b[1;32mif\u001b[0m \u001b[0mis_integer\u001b[0m\u001b[1;33m(\u001b[0m\u001b[0mindexer\u001b[0m\u001b[1;33m)\u001b[0m\u001b[1;33m:\u001b[0m\u001b[1;33m\u001b[0m\u001b[1;33m\u001b[0m\u001b[0m\n\u001b[0;32m   2904\u001b[0m                 \u001b[0mindexer\u001b[0m \u001b[1;33m=\u001b[0m \u001b[1;33m[\u001b[0m\u001b[0mindexer\u001b[0m\u001b[1;33m]\u001b[0m\u001b[1;33m\u001b[0m\u001b[1;33m\u001b[0m\u001b[0m\n",
      "\u001b[1;32m~\\anaconda3\\lib\\site-packages\\pandas\\core\\indexes\\base.py\u001b[0m in \u001b[0;36mget_loc\u001b[1;34m(self, key, method, tolerance)\u001b[0m\n\u001b[0;32m   2895\u001b[0m                 \u001b[1;32mreturn\u001b[0m \u001b[0mself\u001b[0m\u001b[1;33m.\u001b[0m\u001b[0m_engine\u001b[0m\u001b[1;33m.\u001b[0m\u001b[0mget_loc\u001b[0m\u001b[1;33m(\u001b[0m\u001b[0mcasted_key\u001b[0m\u001b[1;33m)\u001b[0m\u001b[1;33m\u001b[0m\u001b[1;33m\u001b[0m\u001b[0m\n\u001b[0;32m   2896\u001b[0m             \u001b[1;32mexcept\u001b[0m \u001b[0mKeyError\u001b[0m \u001b[1;32mas\u001b[0m \u001b[0merr\u001b[0m\u001b[1;33m:\u001b[0m\u001b[1;33m\u001b[0m\u001b[1;33m\u001b[0m\u001b[0m\n\u001b[1;32m-> 2897\u001b[1;33m                 \u001b[1;32mraise\u001b[0m \u001b[0mKeyError\u001b[0m\u001b[1;33m(\u001b[0m\u001b[0mkey\u001b[0m\u001b[1;33m)\u001b[0m \u001b[1;32mfrom\u001b[0m \u001b[0merr\u001b[0m\u001b[1;33m\u001b[0m\u001b[1;33m\u001b[0m\u001b[0m\n\u001b[0m\u001b[0;32m   2898\u001b[0m \u001b[1;33m\u001b[0m\u001b[0m\n\u001b[0;32m   2899\u001b[0m         \u001b[1;32mif\u001b[0m \u001b[0mtolerance\u001b[0m \u001b[1;32mis\u001b[0m \u001b[1;32mnot\u001b[0m \u001b[1;32mNone\u001b[0m\u001b[1;33m:\u001b[0m\u001b[1;33m\u001b[0m\u001b[1;33m\u001b[0m\u001b[0m\n",
      "\u001b[1;31mKeyError\u001b[0m: 'Duration'"
     ]
    },
    {
     "data": {
      "image/png": "[encoded data removed]",
      "text/plain": [
       "<Figure size 432x288 with 1 Axes>"
      ]
     },
     "metadata": {
      "needs_background": "light"
     },
     "output_type": "display_data"
    }
   ],
   "source": [
    "import pandas as pd\n",
    "import matplotlib.pyplot as plt\n",
    "\n",
    "df = pd.read_csv(r'C:\\Users\\Atharva\\Desktop\\mycap\\eng_data.csv')\n",
    "\n",
    "df.plot(kind = 'scatter', x = 'Duration', y = 'Calories')\n",
    "\n",
    "plt.show()"
   ]
  },
  {
   "cell_type": "code",
   "execution_count": 71,
   "metadata": {},
   "outputs": [
    {
     "ename": "KeyError",
     "evalue": "'Duration'",
     "output_type": "error",
     "traceback": [
      "\u001b[1;31m---------------------------------------------------------------------------\u001b[0m",
      "\u001b[1;31mKeyError\u001b[0m                                  Traceback (most recent call last)",
      "\u001b[1;32m~\\anaconda3\\lib\\site-packages\\pandas\\core\\indexes\\base.py\u001b[0m in \u001b[0;36mget_loc\u001b[1;34m(self, key, method, tolerance)\u001b[0m\n\u001b[0;32m   2894\u001b[0m             \u001b[1;32mtry\u001b[0m\u001b[1;33m:\u001b[0m\u001b[1;33m\u001b[0m\u001b[1;33m\u001b[0m\u001b[0m\n\u001b[1;32m-> 2895\u001b[1;33m                 \u001b[1;32mreturn\u001b[0m \u001b[0mself\u001b[0m\u001b[1;33m.\u001b[0m\u001b[0m_engine\u001b[0m\u001b[1;33m.\u001b[0m\u001b[0mget_loc\u001b[0m\u001b[1;33m(\u001b[0m\u001b[0mcasted_key\u001b[0m\u001b[1;33m)\u001b[0m\u001b[1;33m\u001b[0m\u001b[1;33m\u001b[0m\u001b[0m\n\u001b[0m\u001b[0;32m   2896\u001b[0m             \u001b[1;32mexcept\u001b[0m \u001b[0mKeyError\u001b[0m \u001b[1;32mas\u001b[0m \u001b[0merr\u001b[0m\u001b[1;33m:\u001b[0m\u001b[1;33m\u001b[0m\u001b[1;33m\u001b[0m\u001b[0m\n",
      "\u001b[1;32mpandas\\_libs\\index.pyx\u001b[0m in \u001b[0;36mpandas._libs.index.IndexEngine.get_loc\u001b[1;34m()\u001b[0m\n",
      "\u001b[1;32mpandas\\_libs\\index.pyx\u001b[0m in \u001b[0;36mpandas._libs.index.IndexEngine.get_loc\u001b[1;34m()\u001b[0m\n",
      "\u001b[1;32mpandas\\_libs\\hashtable_class_helper.pxi\u001b[0m in \u001b[0;36mpandas._libs.hashtable.PyObjectHashTable.get_item\u001b[1;34m()\u001b[0m\n",
      "\u001b[1;32mpandas\\_libs\\hashtable_class_helper.pxi\u001b[0m in \u001b[0;36mpandas._libs.hashtable.PyObjectHashTable.get_item\u001b[1;34m()\u001b[0m\n",
      "\u001b[1;31mKeyError\u001b[0m: 'Duration'",
      "\nThe above exception was the direct cause of the following exception:\n",
      "\u001b[1;31mKeyError\u001b[0m                                  Traceback (most recent call last)",
      "\u001b[1;32m<ipython-input-71-50ec4e44b318>\u001b[0m in \u001b[0;36m<module>\u001b[1;34m\u001b[0m\n\u001b[1;32m----> 1\u001b[1;33m \u001b[0mdf\u001b[0m\u001b[1;33m[\u001b[0m\u001b[1;34m\"Duration\"\u001b[0m\u001b[1;33m]\u001b[0m\u001b[1;33m.\u001b[0m\u001b[0mplot\u001b[0m\u001b[1;33m(\u001b[0m\u001b[0mkind\u001b[0m \u001b[1;33m=\u001b[0m \u001b[1;34m'hist'\u001b[0m\u001b[1;33m)\u001b[0m\u001b[1;33m\u001b[0m\u001b[1;33m\u001b[0m\u001b[0m\n\u001b[0m",
      "\u001b[1;32m~\\anaconda3\\lib\\site-packages\\pandas\\core\\frame.py\u001b[0m in \u001b[0;36m__getitem__\u001b[1;34m(self, key)\u001b[0m\n\u001b[0;32m   2900\u001b[0m             \u001b[1;32mif\u001b[0m \u001b[0mself\u001b[0m\u001b[1;33m.\u001b[0m\u001b[0mcolumns\u001b[0m\u001b[1;33m.\u001b[0m\u001b[0mnlevels\u001b[0m \u001b[1;33m>\u001b[0m \u001b[1;36m1\u001b[0m\u001b[1;33m:\u001b[0m\u001b[1;33m\u001b[0m\u001b[1;33m\u001b[0m\u001b[0m\n\u001b[0;32m   2901\u001b[0m                 \u001b[1;32mreturn\u001b[0m \u001b[0mself\u001b[0m\u001b[1;33m.\u001b[0m\u001b[0m_getitem_multilevel\u001b[0m\u001b[1;33m(\u001b[0m\u001b[0mkey\u001b[0m\u001b[1;33m)\u001b[0m\u001b[1;33m\u001b[0m\u001b[1;33m\u001b[0m\u001b[0m\n\u001b[1;32m-> 2902\u001b[1;33m             \u001b[0mindexer\u001b[0m \u001b[1;33m=\u001b[0m \u001b[0mself\u001b[0m\u001b[1;33m.\u001b[0m\u001b[0mcolumns\u001b[0m\u001b[1;33m.\u001b[0m\u001b[0mget_loc\u001b[0m\u001b[1;33m(\u001b[0m\u001b[0mkey\u001b[0m\u001b[1;33m)\u001b[0m\u001b[1;33m\u001b[0m\u001b[1;33m\u001b[0m\u001b[0m\n\u001b[0m\u001b[0;32m   2903\u001b[0m             \u001b[1;32mif\u001b[0m \u001b[0mis_integer\u001b[0m\u001b[1;33m(\u001b[0m\u001b[0mindexer\u001b[0m\u001b[1;33m)\u001b[0m\u001b[1;33m:\u001b[0m\u001b[1;33m\u001b[0m\u001b[1;33m\u001b[0m\u001b[0m\n\u001b[0;32m   2904\u001b[0m                 \u001b[0mindexer\u001b[0m \u001b[1;33m=\u001b[0m \u001b[1;33m[\u001b[0m\u001b[0mindexer\u001b[0m\u001b[1;33m]\u001b[0m\u001b[1;33m\u001b[0m\u001b[1;33m\u001b[0m\u001b[0m\n",
      "\u001b[1;32m~\\anaconda3\\lib\\site-packages\\pandas\\core\\indexes\\base.py\u001b[0m in \u001b[0;36mget_loc\u001b[1;34m(self, key, method, tolerance)\u001b[0m\n\u001b[0;32m   2895\u001b[0m                 \u001b[1;32mreturn\u001b[0m \u001b[0mself\u001b[0m\u001b[1;33m.\u001b[0m\u001b[0m_engine\u001b[0m\u001b[1;33m.\u001b[0m\u001b[0mget_loc\u001b[0m\u001b[1;33m(\u001b[0m\u001b[0mcasted_key\u001b[0m\u001b[1;33m)\u001b[0m\u001b[1;33m\u001b[0m\u001b[1;33m\u001b[0m\u001b[0m\n\u001b[0;32m   2896\u001b[0m             \u001b[1;32mexcept\u001b[0m \u001b[0mKeyError\u001b[0m \u001b[1;32mas\u001b[0m \u001b[0merr\u001b[0m\u001b[1;33m:\u001b[0m\u001b[1;33m\u001b[0m\u001b[1;33m\u001b[0m\u001b[0m\n\u001b[1;32m-> 2897\u001b[1;33m                 \u001b[1;32mraise\u001b[0m \u001b[0mKeyError\u001b[0m\u001b[1;33m(\u001b[0m\u001b[0mkey\u001b[0m\u001b[1;33m)\u001b[0m \u001b[1;32mfrom\u001b[0m \u001b[0merr\u001b[0m\u001b[1;33m\u001b[0m\u001b[1;33m\u001b[0m\u001b[0m\n\u001b[0m\u001b[0;32m   2898\u001b[0m \u001b[1;33m\u001b[0m\u001b[0m\n\u001b[0;32m   2899\u001b[0m         \u001b[1;32mif\u001b[0m \u001b[0mtolerance\u001b[0m \u001b[1;32mis\u001b[0m \u001b[1;32mnot\u001b[0m \u001b[1;32mNone\u001b[0m\u001b[1;33m:\u001b[0m\u001b[1;33m\u001b[0m\u001b[1;33m\u001b[0m\u001b[0m\n",
      "\u001b[1;31mKeyError\u001b[0m: 'Duration'"
     ]
    }
   ],
   "source": [
    "df[\"Duration\"].plot(kind = 'hist')\n"
   ]
  },
  {
   "cell_type": "code",
   "execution_count": null,
   "metadata": {},
   "outputs": [],
   "source": []
  }
 ],
 "metadata": {
  "kernelspec": {
   "display_name": "Python 3",
   "language": "python",
   "name": "python3"
  },
  "language_info": {
   "codemirror_mode": {
    "name": "ipython",
    "version": 3
   },
   "file_extension": ".py",
   "mimetype": "text/x-python",
   "name": "python",
   "nbconvert_exporter": "python",
   "pygments_lexer": "ipython3",
   "version": "3.8.5"
  }
 },
 "nbformat": 4,
 "nbformat_minor": 4
}
